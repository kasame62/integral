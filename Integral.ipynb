{
 "cells": [
  {
   "cell_type": "markdown",
   "id": "a6590d8d",
   "metadata": {},
   "source": [
    "# การ Integral in 1d, 2d and 3d"
   ]
  },
  {
   "cell_type": "markdown",
   "id": "a8db7d20",
   "metadata": {},
   "source": [
    "# ข้อ 1"
   ]
  },
  {
   "cell_type": "code",
   "execution_count": 45,
   "id": "e86d5b78",
   "metadata": {},
   "outputs": [
    {
     "name": "stdout",
     "output_type": "stream",
     "text": [
      "0.5430851604796578\n"
     ]
    }
   ],
   "source": [
    "import scipy.integrate as spi\n",
    "import numpy as np\n",
    "N = 100\n",
    "x = np.linspace(0,1,N+1)\n",
    "y = np.sinh(x)\n",
    "approximation = spi.trapz(y,x)\n",
    "print(approximation)"
   ]
  },
  {
   "cell_type": "code",
   "execution_count": 40,
   "id": "a9d43676",
   "metadata": {},
   "outputs": [
    {
     "name": "stdout",
     "output_type": "stream",
     "text": [
      "0.6321348778048443\n"
     ]
    }
   ],
   "source": [
    "N = 100\n",
    "x = np.linspace(0,1,N+1)\n",
    "y = x*np.cosh(x)\n",
    "approximation = spi.trapz(y,x)\n",
    "print(approximation)"
   ]
  },
  {
   "cell_type": "code",
   "execution_count": 43,
   "id": "864595b2",
   "metadata": {},
   "outputs": [
    {
     "name": "stdout",
     "output_type": "stream",
     "text": [
      "23.79351736984751\n"
     ]
    }
   ],
   "source": [
    "N = 100\n",
    "x = np.linspace(0,1,N+1)\n",
    "y = x*(np.exp(5*x))\n",
    "approximation = spi.trapz(y,x)\n",
    "print(approximation)"
   ]
  },
  {
   "cell_type": "code",
   "execution_count": 46,
   "id": "69cebc59",
   "metadata": {},
   "outputs": [
    {
     "name": "stdout",
     "output_type": "stream",
     "text": [
      "0.6363001373359788\n"
     ]
    }
   ],
   "source": [
    "N = 100\n",
    "x = np.linspace(1,2,N+1)\n",
    "y = x*np.log(x)\n",
    "approximation = spi.trapz(y,x)\n",
    "print(approximation)"
   ]
  },
  {
   "cell_type": "code",
   "execution_count": 47,
   "id": "a688731e",
   "metadata": {},
   "outputs": [
    {
     "name": "stdout",
     "output_type": "stream",
     "text": [
      "1.0111245077524034\n"
     ]
    }
   ],
   "source": [
    "N = 100\n",
    "x = np.linspace(1,2,N+1)\n",
    "y = 1/ (1+np.cos(x))\n",
    "approximation = spi.trapz(y,x)\n",
    "print(approximation)"
   ]
  },
  {
   "cell_type": "markdown",
   "id": "4dbaf060",
   "metadata": {},
   "source": [
    "# ข้อ 2 "
   ]
  },
  {
   "cell_type": "code",
   "execution_count": 65,
   "id": "58ac344a",
   "metadata": {},
   "outputs": [
    {
     "name": "stdout",
     "output_type": "stream",
     "text": [
      "0.7853981256146766\n"
     ]
    }
   ],
   "source": [
    "from scipy import integrate\n",
    "N = 8; a = 0; b = 1;\n",
    "x = np.linspace(a,b,N+1)\n",
    "y = 1/(1+(x**2))\n",
    "I1 = integrate.simps(y,x)\n",
    "print(I1)"
   ]
  },
  {
   "cell_type": "code",
   "execution_count": 66,
   "id": "c5bb8370",
   "metadata": {},
   "outputs": [
    {
     "name": "stdout",
     "output_type": "stream",
     "text": [
      "0.17827959850790726\n"
     ]
    }
   ],
   "source": [
    "N = 8; a = 1; b = 2;\n",
    "x = np.linspace(a,b,N+1)\n",
    "y =  1/((1+x**2)*(x**2))\n",
    "I1 = integrate.simps(y,x)\n",
    "print(I1)"
   ]
  },
  {
   "cell_type": "code",
   "execution_count": 70,
   "id": "ee4777ab",
   "metadata": {},
   "outputs": [
    {
     "name": "stdout",
     "output_type": "stream",
     "text": [
      "0.14270115146563284\n"
     ]
    }
   ],
   "source": [
    "N = 8; a = 0; b = 1;\n",
    "x = np.linspace(a,b,N+1)\n",
    "y =  (x**2)/((1+x**2)**2)\n",
    "I1 = integrate.simps(y,x)\n",
    "print(I1)"
   ]
  },
  {
   "cell_type": "code",
   "execution_count": 69,
   "id": "7b106ec9",
   "metadata": {},
   "outputs": [
    {
     "name": "stdout",
     "output_type": "stream",
     "text": [
      "0.6356746593471699\n"
     ]
    }
   ],
   "source": [
    "N = 8; a = 0; b = 1;\n",
    "x = np.linspace(a,b,N+1)\n",
    "y =  1/((x+2)**(1/2))\n",
    "I1 = integrate.simps(y,x)\n",
    "print(I1)"
   ]
  },
  {
   "cell_type": "code",
   "execution_count": 71,
   "id": "5bfcd98d",
   "metadata": {},
   "outputs": [
    {
     "name": "stdout",
     "output_type": "stream",
     "text": [
      "0.20140602657625717\n"
     ]
    }
   ],
   "source": [
    "N = 8; a = 0; b = 1;\n",
    "x = np.linspace(a,b,N+1)\n",
    "y =  (x**2)/((x+2)**(1/2))\n",
    "I1 = integrate.simps(y,x)\n",
    "print(I1)"
   ]
  },
  {
   "cell_type": "markdown",
   "id": "7eb38b21",
   "metadata": {},
   "source": [
    "# ข้อ3 "
   ]
  },
  {
   "cell_type": "code",
   "execution_count": 18,
   "id": "cd610a69",
   "metadata": {},
   "outputs": [
    {
     "data": {
      "text/latex": [
       "$\\displaystyle \\frac{175}{2}$"
      ],
      "text/plain": [
       "175/2"
      ]
     },
     "execution_count": 18,
     "metadata": {},
     "output_type": "execute_result"
    }
   ],
   "source": [
    "x, y = symbols(\"x y\")\n",
    "f = (((3)*(x ** 2)) + (7*x*y) + (y**3))\n",
    "res = integrate(f, (y, 3, 4), (x, 1, 2))\n",
    "res"
   ]
  },
  {
   "cell_type": "code",
   "execution_count": 19,
   "id": "c035b2a6",
   "metadata": {},
   "outputs": [
    {
     "data": {
      "text/latex": [
       "$\\displaystyle \\frac{\\sin^{2}{\\left(1 \\right)}}{2}$"
      ],
      "text/plain": [
       "sin(1)**2/2"
      ]
     },
     "execution_count": 19,
     "metadata": {},
     "output_type": "execute_result"
    }
   ],
   "source": [
    "x, y = symbols(\"x y\")\n",
    "f = (sin(x)*cos(x))\n",
    "res = integrate(f, (y, 0, 1), (x, 0, 1))\n",
    "res"
   ]
  },
  {
   "cell_type": "markdown",
   "id": "0d5c5a38",
   "metadata": {},
   "source": [
    "# ข้อ4"
   ]
  },
  {
   "cell_type": "code",
   "execution_count": 35,
   "id": "68e797ed",
   "metadata": {},
   "outputs": [],
   "source": [
    "r, Ø ,z = symbols(\"r Ø z \")\n",
    "f = r\n",
    "res = integrate(f, (r, 0, 'a'), (Ø, 0, (2*np.pi)), (z, 0, 'h'))"
   ]
  },
  {
   "cell_type": "code",
   "execution_count": 36,
   "id": "765c626f",
   "metadata": {},
   "outputs": [
    {
     "data": {
      "text/latex": [
       "$\\displaystyle 3.14159265358979 a^{2} h$"
      ],
      "text/plain": [
       "3.14159265358979*a**2*h"
      ]
     },
     "execution_count": 36,
     "metadata": {},
     "output_type": "execute_result"
    }
   ],
   "source": [
    "res"
   ]
  }
 ],
 "metadata": {
  "kernelspec": {
   "display_name": "Python 3 (ipykernel)",
   "language": "python",
   "name": "python3"
  },
  "language_info": {
   "codemirror_mode": {
    "name": "ipython",
    "version": 3
   },
   "file_extension": ".py",
   "mimetype": "text/x-python",
   "name": "python",
   "nbconvert_exporter": "python",
   "pygments_lexer": "ipython3",
   "version": "3.9.1"
  }
 },
 "nbformat": 4,
 "nbformat_minor": 5
}
